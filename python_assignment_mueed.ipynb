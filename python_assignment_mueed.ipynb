{
 "cells": [
  {
   "cell_type": "markdown",
   "metadata": {},
   "source": [
    "######################## BCB 546X: Python Assignment Details ########################\n",
    "\n",
    "# ** Your Mission: Complete Python code in a Jupyter Notebook ** #\n",
    "\n",
    "#-- Functions --#\n",
    "## 1. Document Dr. X's function with comments and with markdown text in your Jupyter notebook.\n",
    "## 2. Write a function that translates a string of nucleotides to amino acids based on Dr. X's pseudo-code suggestion.\n",
    "## 3. Write an alternative translation function.\n",
    "## 4. Write a function that calculates the molecular weight of each 3 amino acid sequence.\n",
    "## 5. Write a function that computes the GC-content of each DNA sequence.\n",
    "\n",
    "#-- In the MAIN part of the script --#\n",
    "## 6. Add two new columns to the penguin DataFrame: (1) molecular weight and (2) GC content.\n",
    "## 7. Call your functions from step 3 (or step 2) and step 4 and fill in the new columns in the DataFrame.\n",
    "## 8. Plot a bar-chart of adult body mass per species. In your description of the graph, provide text that answers these questions: \n",
    "#       a. What is the smallest penguin species? \n",
    "#       b. What is the geographical range of this species?\n",
    "## 9. Plot a graph that shows the molecular weight as a function of GC content. \n",
    "## 10. Write the entire DataFrame to a new CSV file that includes your new columns.\n",
    "## 11. BONUS: What other visualizations, functions or tasks would you do with this dataset? Add something interesting for fun. (0.5 additional points if your total score is < 15).\n",
    "\n",
    "#-- Additional Instructions (points will be deducted if these instructions are not heeded) --#\n",
    "## ** Do all of this in a Jupyter notebook and push it to a GitHub repository.\n",
    "## ** Your repository should not contain any files other than those associated with this assignment. \n",
    "## ** Read all comments carefully and answer the questions by including information in your Jupyter notebook.\n",
    "## ** Document all of your code (and Dr. X's code) very thoroughly so that it is clear what you did.\n",
    "## ** Be sure to cite (by providing URLs or other appropriate citations) information appropriately in your documented notebook.\n",
    "## ** Commit and push your completed work in the Jupyter notebook to your repository.\n",
    "## ** Submit the URL to your git repository via Canvas by the end of the day on May 6, 2022.\n",
    "\n",
    "#-- Disclaimer --#\n",
    "## Not all of these tasks have been covered in class and you will have to use online resources to find out how to do some of these tasks.\n"
   ]
  },
  {
   "cell_type": "markdown",
   "metadata": {},
   "source": [
    "######################## Python Translate Script ########################\n",
    "\n",
    "## Here's the start of our Python script. Thanks for completing it for me! - Dr. X\n",
    "## IMPORTANT: install BioPython so that this will work"
   ]
  },
  {
   "cell_type": "code",
   "execution_count": 10,
   "metadata": {},
   "outputs": [
    {
     "name": "stdout",
     "output_type": "stream",
     "text": [
      "Collecting pandas\n",
      "  Downloading pandas-2.2.2-cp312-cp312-win_amd64.whl.metadata (19 kB)\n",
      "Requirement already satisfied: numpy>=1.26.0 in c:\\users\\amuee\\miniconda3\\envs\\notebook\\lib\\site-packages (from pandas) (1.26.4)\n",
      "Requirement already satisfied: python-dateutil>=2.8.2 in c:\\users\\amuee\\miniconda3\\envs\\notebook\\lib\\site-packages (from pandas) (2.9.0)\n",
      "Collecting pytz>=2020.1 (from pandas)\n",
      "  Downloading pytz-2024.1-py2.py3-none-any.whl.metadata (22 kB)\n",
      "Collecting tzdata>=2022.7 (from pandas)\n",
      "  Downloading tzdata-2024.1-py2.py3-none-any.whl.metadata (1.4 kB)\n",
      "Requirement already satisfied: six>=1.5 in c:\\users\\amuee\\miniconda3\\envs\\notebook\\lib\\site-packages (from python-dateutil>=2.8.2->pandas) (1.16.0)\n",
      "Downloading pandas-2.2.2-cp312-cp312-win_amd64.whl (11.5 MB)\n",
      "   ---------------------------------------- 0.0/11.5 MB ? eta -:--:--\n",
      "   ---------------------------------------- 0.1/11.5 MB 2.3 MB/s eta 0:00:05\n",
      "    --------------------------------------- 0.2/11.5 MB 2.8 MB/s eta 0:00:05\n",
      "   - -------------------------------------- 0.4/11.5 MB 3.2 MB/s eta 0:00:04\n",
      "   -- ------------------------------------- 0.6/11.5 MB 3.5 MB/s eta 0:00:04\n",
      "   -- ------------------------------------- 0.7/11.5 MB 3.4 MB/s eta 0:00:04\n",
      "   -- ------------------------------------- 0.8/11.5 MB 3.0 MB/s eta 0:00:04\n",
      "   --- ------------------------------------ 1.0/11.5 MB 3.1 MB/s eta 0:00:04\n",
      "   ---- ----------------------------------- 1.2/11.5 MB 3.4 MB/s eta 0:00:04\n",
      "   ----- ---------------------------------- 1.5/11.5 MB 3.6 MB/s eta 0:00:03\n",
      "   ----- ---------------------------------- 1.7/11.5 MB 3.9 MB/s eta 0:00:03\n",
      "   ------ --------------------------------- 1.8/11.5 MB 3.6 MB/s eta 0:00:03\n",
      "   ------ --------------------------------- 2.0/11.5 MB 3.8 MB/s eta 0:00:03\n",
      "   ------- -------------------------------- 2.3/11.5 MB 3.8 MB/s eta 0:00:03\n",
      "   -------- ------------------------------- 2.4/11.5 MB 3.8 MB/s eta 0:00:03\n",
      "   --------- ------------------------------ 2.7/11.5 MB 3.8 MB/s eta 0:00:03\n",
      "   ---------- ----------------------------- 3.1/11.5 MB 4.2 MB/s eta 0:00:02\n",
      "   ---------- ----------------------------- 3.2/11.5 MB 4.2 MB/s eta 0:00:02\n",
      "   ----------- ---------------------------- 3.4/11.5 MB 4.2 MB/s eta 0:00:02\n",
      "   ------------ --------------------------- 3.6/11.5 MB 4.2 MB/s eta 0:00:02\n",
      "   ------------- -------------------------- 3.9/11.5 MB 4.3 MB/s eta 0:00:02\n",
      "   -------------- ------------------------- 4.1/11.5 MB 4.3 MB/s eta 0:00:02\n",
      "   --------------- ------------------------ 4.4/11.5 MB 4.4 MB/s eta 0:00:02\n",
      "   --------------- ------------------------ 4.5/11.5 MB 4.3 MB/s eta 0:00:02\n",
      "   ---------------- ----------------------- 4.8/11.5 MB 4.4 MB/s eta 0:00:02\n",
      "   ----------------- ---------------------- 5.1/11.5 MB 4.5 MB/s eta 0:00:02\n",
      "   ------------------ --------------------- 5.3/11.5 MB 4.5 MB/s eta 0:00:02\n",
      "   ------------------- -------------------- 5.5/11.5 MB 4.5 MB/s eta 0:00:02\n",
      "   -------------------- ------------------- 5.8/11.5 MB 4.5 MB/s eta 0:00:02\n",
      "   -------------------- ------------------- 5.9/11.5 MB 4.4 MB/s eta 0:00:02\n",
      "   --------------------- ------------------ 6.1/11.5 MB 4.4 MB/s eta 0:00:02\n",
      "   ---------------------- ----------------- 6.5/11.5 MB 4.5 MB/s eta 0:00:02\n",
      "   ---------------------- ----------------- 6.5/11.5 MB 4.5 MB/s eta 0:00:02\n",
      "   ----------------------- ---------------- 6.8/11.5 MB 4.5 MB/s eta 0:00:02\n",
      "   ------------------------ --------------- 7.1/11.5 MB 4.6 MB/s eta 0:00:01\n",
      "   ------------------------ --------------- 7.1/11.5 MB 4.5 MB/s eta 0:00:01\n",
      "   ------------------------ --------------- 7.1/11.5 MB 4.5 MB/s eta 0:00:01\n",
      "   ------------------------ --------------- 7.1/11.5 MB 4.3 MB/s eta 0:00:02\n",
      "   ------------------------- -------------- 7.2/11.5 MB 4.2 MB/s eta 0:00:02\n",
      "   ------------------------- -------------- 7.2/11.5 MB 4.2 MB/s eta 0:00:02\n",
      "   ------------------------- -------------- 7.2/11.5 MB 4.0 MB/s eta 0:00:02\n",
      "   ------------------------- -------------- 7.3/11.5 MB 3.9 MB/s eta 0:00:02\n",
      "   ------------------------- -------------- 7.3/11.5 MB 3.8 MB/s eta 0:00:02\n",
      "   ------------------------- -------------- 7.4/11.5 MB 3.7 MB/s eta 0:00:02\n",
      "   ------------------------- -------------- 7.4/11.5 MB 3.7 MB/s eta 0:00:02\n",
      "   ------------------------- -------------- 7.4/11.5 MB 3.6 MB/s eta 0:00:02\n",
      "   ------------------------- -------------- 7.4/11.5 MB 3.6 MB/s eta 0:00:02\n",
      "   -------------------------- ------------- 7.5/11.5 MB 3.5 MB/s eta 0:00:02\n",
      "   -------------------------- ------------- 7.7/11.5 MB 3.5 MB/s eta 0:00:02\n",
      "   --------------------------- ------------ 7.9/11.5 MB 3.5 MB/s eta 0:00:02\n",
      "   --------------------------- ------------ 8.0/11.5 MB 3.5 MB/s eta 0:00:01\n",
      "   ---------------------------- ----------- 8.3/11.5 MB 3.5 MB/s eta 0:00:01\n",
      "   ----------------------------- ---------- 8.5/11.5 MB 3.5 MB/s eta 0:00:01\n",
      "   ------------------------------ --------- 8.7/11.5 MB 3.6 MB/s eta 0:00:01\n",
      "   ------------------------------- -------- 8.9/11.5 MB 3.6 MB/s eta 0:00:01\n",
      "   ------------------------------- -------- 9.1/11.5 MB 3.6 MB/s eta 0:00:01\n",
      "   -------------------------------- ------- 9.3/11.5 MB 3.6 MB/s eta 0:00:01\n",
      "   --------------------------------- ------ 9.6/11.5 MB 3.7 MB/s eta 0:00:01\n",
      "   ---------------------------------- ----- 9.8/11.5 MB 3.7 MB/s eta 0:00:01\n",
      "   ----------------------------------- ---- 10.1/11.5 MB 3.7 MB/s eta 0:00:01\n",
      "   ----------------------------------- ---- 10.2/11.5 MB 3.7 MB/s eta 0:00:01\n",
      "   ------------------------------------ --- 10.4/11.5 MB 3.7 MB/s eta 0:00:01\n",
      "   ------------------------------------- -- 10.8/11.5 MB 3.8 MB/s eta 0:00:01\n",
      "   ---------------------------------------  11.3/11.5 MB 4.0 MB/s eta 0:00:01\n",
      "   ---------------------------------------  11.5/11.5 MB 4.0 MB/s eta 0:00:01\n",
      "   ---------------------------------------- 11.5/11.5 MB 4.0 MB/s eta 0:00:00\n",
      "Downloading pytz-2024.1-py2.py3-none-any.whl (505 kB)\n",
      "   ---------------------------------------- 0.0/505.5 kB ? eta -:--:--\n",
      "   ------------------------------------ -- 471.0/505.5 kB 14.9 MB/s eta 0:00:01\n",
      "   --------------------------------------- 505.5/505.5 kB 10.5 MB/s eta 0:00:00\n",
      "Downloading tzdata-2024.1-py2.py3-none-any.whl (345 kB)\n",
      "   ---------------------------------------- 0.0/345.4 kB ? eta -:--:--\n",
      "   --------------------------------------- 345.4/345.4 kB 10.8 MB/s eta 0:00:00\n",
      "Installing collected packages: pytz, tzdata, pandas\n",
      "Successfully installed pandas-2.2.2 pytz-2024.1 tzdata-2024.1\n"
     ]
    }
   ],
   "source": [
    "!pip install pandas\n"
   ]
  },
  {
   "cell_type": "code",
   "execution_count": 11,
   "metadata": {},
   "outputs": [],
   "source": [
    "from Bio import SeqIO\n",
    "from Bio.Data import CodonTable\n",
    "import pandas as pd"
   ]
  },
  {
   "cell_type": "markdown",
   "metadata": {},
   "source": [
    "#%%%%%%%%%%%%%%%#\n",
    "### FUNCTIONS ###\n",
    "#%%%%%%%%%%%%%%%#\n",
    "\n",
    "## 1 ##\n",
    "## Dr. X: this gets sequences \n",
    "## Please properly document this function in the Jupyter notebook \n",
    "## Your descriptions of all functions should contain information about what the function does,\n",
    "## as well as information about the return types and arguments."
   ]
  },
  {
   "cell_type": "code",
   "execution_count": 12,
   "metadata": {},
   "outputs": [],
   "source": [
    "def get_sequences_from_file(fasta_fn):\n",
    "    sequence_data_dict = {}\n",
    "    for record in SeqIO.parse(fasta_fn, \"fasta\"):\n",
    "        description = record.description.split()\n",
    "        species_name = description[1] + \" \" + description[2]\n",
    "        sequence_data_dict[species_name] = record.seq\n",
    "    return(sequence_data_dict)\n",
    "\n",
    "    \n",
    "    # Parses a FASTA file to extract DNA sequences and uses a part of the description\n",
    "    # to associate each sequence with a specific species. Assumes that the species name\n",
    "    # is the second and third word in the description of each sequence in the FASTA file.\n",
    "\n",
    "    # Args:\n",
    "    # fasta_fn (str): The file name or path to the FASTA file.\n",
    "\n",
    "    # Returns:\n",
    "    # dict: A dictionary where keys are species names (str) and values are sequences (Seq).\n",
    "    "
   ]
  },
  {
   "cell_type": "code",
   "execution_count": 15,
   "metadata": {},
   "outputs": [
    {
     "name": "stdout",
     "output_type": "stream",
     "text": [
      "Species: Aptenodytes forsteri, Sequence: ATGGCCCCAAATCTCCGAAAATCCCATCCC...\n",
      "Species: Aptenodytes patagonicus, Sequence: ATGGCCCCAAACCTCCGAAAATCCCATCCT...\n",
      "Species: Eudyptes chrysocome, Sequence: ATGGCCCCCAACCTCCGAAAATCCCACCCC...\n",
      "Species: Eudyptes chrysolophus, Sequence: ATGGCCCCCAACCTCCGAAAATCCCACCCC...\n",
      "Species: Eudyptes sclateri, Sequence: ATGGCCCCCAACCTCCGAAAATCCCACCCC...\n",
      "Species: Eudyptula minor, Sequence: ATGGCCCCCAACCTCCGAAAATCTCACCCC...\n",
      "Species: Pygoscelis adeliae, Sequence: ATGGCCCCCAACCTCCGAAAATCCCACCCT...\n",
      "Species: Pygoscelis antarctica, Sequence: ATGGCCCCCAACCTCCGAAAATCCCACCCT...\n",
      "Species: Pygoscelis papua, Sequence: ATGGCCCCCAACCTTCGAAAATCCCACCCT...\n",
      "Species: Spheniscus demersus, Sequence: ATGGCCCCCAACCTCCGAAAATCCCACCCT...\n",
      "Species: Spheniscus humboldti, Sequence: ATGGCCCCCAACCTCCGAAAATCCCACCCT...\n",
      "Species: Spheniscus magellanicus, Sequence: ATGGCCCCCAACCTCCGAAAATCCCACCCT...\n"
     ]
    }
   ],
   "source": [
    "# Example usage of the function\n",
    "fasta_file = \"penguins_cytb.fasta\"\n",
    "sequences = get_sequences_from_file(fasta_file)\n",
    "\n",
    "# Print the retrieved sequences along with their species names\n",
    "for species, sequence in sequences.items():\n",
    "    print(f\"Species: {species}, Sequence: {sequence[:30]}...\")  # Print the first 30 nucleotides for brevity"
   ]
  },
  {
   "cell_type": "markdown",
   "metadata": {},
   "source": [
    "## 2 ##\n",
    "####### YOUR STRING-TRANSLATE FUNCTION ########\n",
    "## Write a function that translates sequences\n",
    "## All sequences start at codon position 1\n",
    "## Complete a function that translates using a loop over the string of nucleotides\n",
    "## Here is  some pseudo-code and suggestions"
   ]
  },
  {
   "cell_type": "code",
   "execution_count": null,
   "metadata": {},
   "outputs": [],
   "source": [
    "# def translate_function(string_nucleotides): \n",
    "#     mito_table = CodonTable.unambiguous_dna_by_name[\"Vertebrate Mitochondrial\"] # this should work using BioPython (be sure to check what this returns)\n",
    "#     for-loop through every 3rd position in string_nucleotides to get the codon using range subsets\n",
    "#         # IMPORTANT: if the sequence has a stop codon at the end, you should leave it off\n",
    "#         # this is how you can retrieve the amino acid: mito_table.forward_table[codon]\n",
    "#         add the aa to aa_seq_string\n",
    "#     return(aa_seq_string)"
   ]
  },
  {
   "cell_type": "code",
   "execution_count": 3,
   "metadata": {},
   "outputs": [
    {
     "name": "stdout",
     "output_type": "stream",
     "text": [
      "Collecting biopython\n",
      "  Downloading biopython-1.83-cp312-cp312-win_amd64.whl.metadata (13 kB)\n",
      "Collecting numpy (from biopython)\n",
      "  Downloading numpy-1.26.4-cp312-cp312-win_amd64.whl.metadata (61 kB)\n",
      "     ---------------------------------------- 0.0/61.0 kB ? eta -:--:--\n",
      "     ------ --------------------------------- 10.2/61.0 kB ? eta -:--:--\n",
      "     ------------------- ------------------ 30.7/61.0 kB 435.7 kB/s eta 0:00:01\n",
      "     -------------------------------------- 61.0/61.0 kB 651.3 kB/s eta 0:00:00\n",
      "Downloading biopython-1.83-cp312-cp312-win_amd64.whl (2.7 MB)\n",
      "   ---------------------------------------- 0.0/2.7 MB ? eta -:--:--\n",
      "   - -------------------------------------- 0.1/2.7 MB 3.0 MB/s eta 0:00:01\n",
      "   ----- ---------------------------------- 0.4/2.7 MB 4.7 MB/s eta 0:00:01\n",
      "   ------------ --------------------------- 0.9/2.7 MB 6.9 MB/s eta 0:00:01\n",
      "   --------------------- ------------------ 1.5/2.7 MB 8.7 MB/s eta 0:00:01\n",
      "   ---------------------------------- ----- 2.3/2.7 MB 10.7 MB/s eta 0:00:01\n",
      "   ---------------------------------------- 2.7/2.7 MB 10.2 MB/s eta 0:00:00\n",
      "Downloading numpy-1.26.4-cp312-cp312-win_amd64.whl (15.5 MB)\n",
      "   ---------------------------------------- 0.0/15.5 MB ? eta -:--:--\n",
      "   -- ------------------------------------- 0.9/15.5 MB 29.4 MB/s eta 0:00:01\n",
      "   ---- ----------------------------------- 1.8/15.5 MB 22.8 MB/s eta 0:00:01\n",
      "   ------ --------------------------------- 2.4/15.5 MB 19.2 MB/s eta 0:00:01\n",
      "   -------- ------------------------------- 3.2/15.5 MB 18.5 MB/s eta 0:00:01\n",
      "   -------- ------------------------------- 3.5/15.5 MB 15.8 MB/s eta 0:00:01\n",
      "   ---------- ----------------------------- 3.9/15.5 MB 14.7 MB/s eta 0:00:01\n",
      "   ------------ --------------------------- 4.7/15.5 MB 15.0 MB/s eta 0:00:01\n",
      "   ------------- -------------------------- 5.4/15.5 MB 15.0 MB/s eta 0:00:01\n",
      "   ---------------- ----------------------- 6.5/15.5 MB 16.0 MB/s eta 0:00:01\n",
      "   ------------------- -------------------- 7.6/15.5 MB 16.8 MB/s eta 0:00:01\n",
      "   ---------------------- ----------------- 8.7/15.5 MB 17.3 MB/s eta 0:00:01\n",
      "   ------------------------- -------------- 9.7/15.5 MB 18.3 MB/s eta 0:00:01\n",
      "   --------------------------- ------------ 10.8/15.5 MB 18.2 MB/s eta 0:00:01\n",
      "   ------------------------------ --------- 11.9/15.5 MB 18.7 MB/s eta 0:00:01\n",
      "   --------------------------------- ------ 13.0/15.5 MB 19.3 MB/s eta 0:00:01\n",
      "   ----------------------------------- ---- 13.8/15.5 MB 20.5 MB/s eta 0:00:01\n",
      "   -------------------------------------- - 15.1/15.5 MB 22.6 MB/s eta 0:00:01\n",
      "   ---------------------------------------  15.5/15.5 MB 23.4 MB/s eta 0:00:01\n",
      "   ---------------------------------------  15.5/15.5 MB 21.1 MB/s eta 0:00:01\n",
      "   ---------------------------------------- 15.5/15.5 MB 19.3 MB/s eta 0:00:00\n",
      "Installing collected packages: numpy, biopython\n",
      "Successfully installed biopython-1.83 numpy-1.26.4\n"
     ]
    }
   ],
   "source": [
    "!pip install biopython\n"
   ]
  },
  {
   "cell_type": "code",
   "execution_count": 5,
   "metadata": {},
   "outputs": [],
   "source": [
    "from Bio.Data import CodonTable\n"
   ]
  },
  {
   "cell_type": "code",
   "execution_count": 7,
   "metadata": {},
   "outputs": [],
   "source": [
    "from Bio.Data import CodonTable\n",
    "\n",
    "def translate_function(string_nucleotides):\n",
    "    \n",
    "    mito_table = CodonTable.unambiguous_dna_by_name['Vertebrate Mitochondrial']\n",
    "    aa_seq_string = ''\n",
    "    \n",
    "    # Iterate over the string in steps of 3 to get each codon\n",
    "    for i in range(0, len(string_nucleotides) - len(string_nucleotides) % 3, 3):\n",
    "        codon = string_nucleotides[i:i+3]\n",
    "        if i + 3 >= len(string_nucleotides) - 3 and codon in mito_table.stop_codons:\n",
    "            continue  # Skip the stop codon at the end\n",
    "        aa_seq_string += mito_table.forward_table.get(codon, '')\n",
    "        \n",
    "    return aa_seq_string\n",
    "\n",
    "\n",
    "# Translates a DNA sequence into an amino acid sequence using the vertebrate mitochondrial codon table.\n",
    "\n",
    "    # This function translates nucleotide sequences into their corresponding amino acid sequences\n",
    "    # based on the \"Vertebrate Mitochondrial\" codon table from BioPython. It processes every three nucleotides\n",
    "    # (codon) and converts them into amino acids. If a stop codon appears at the end of the sequence, it is not included\n",
    "    # in the final amino acid sequence.\n",
    "\n",
    "    # Args:\n",
    "    # string_nucleotides (str): A string of nucleotides.\n",
    "\n",
    "    # Returns:\n",
    "    # str: A string representing the amino acid sequence."
   ]
  },
  {
   "cell_type": "code",
   "execution_count": 10,
   "metadata": {},
   "outputs": [
    {
     "name": "stdout",
     "output_type": "stream",
     "text": [
      "Test Sequence 1 Results:\n",
      "Output: MRMFK\n",
      "Expected: MRMFK\n"
     ]
    }
   ],
   "source": [
    "# Example DNA sequences to test the translate_function\n",
    "test_sequence1 = \"ATGCGTATGTTTAAATAG\"  # Contains a stop codon at the end\n",
    "expected_result1 = \"MRMFK\"  # Expected amino acids, assuming you know the correct translation\n",
    "\n",
    "# Call the translate_function and print the result\n",
    "result1 = translate_function(test_sequence1)\n",
    "print(\"Test Sequence 1 Results:\")\n",
    "print(\"Output:\", result1)\n",
    "print(\"Expected:\", expected_result1)"
   ]
  },
  {
   "cell_type": "markdown",
   "metadata": {},
   "source": [
    "## 3 ##\n",
    "####### YOUR ALTERNATIVE FUNCTION ########\n",
    "## Is there a better way to write the translation function? (Hint: yes there is.) \n",
    "## Perhaps using available BioPython library utilities?\n",
    "## Please also write this function."
   ]
  },
  {
   "cell_type": "code",
   "execution_count": 23,
   "metadata": {},
   "outputs": [],
   "source": [
    "from Bio.Seq import Seq\n",
    "from Bio.Data import CodonTable\n",
    "\n",
    "def translate_sequence(nucleotide_seq):\n",
    "    \n",
    "    #Translates a DNA sequence into an amino acid sequence using the vertebrate mitochondrial codon table.\n",
    "    \n",
    "    #This function utilizes BioPython's Seq object, which provides a high-level interface for biological sequences.\n",
    "    #It automatically handles the translation according to the 'Vertebrate Mitochondrial' codon table and considers stop codons.\n",
    "\n",
    "    #Args:\n",
    "    #nucleotide_seq (str): A string of nucleotides.\n",
    "\n",
    "    #Returns:\n",
    "    #str: A string representing the amino acid sequence, excluding the final stop codon if present.\n",
    "    \n",
    "    dna_seq = Seq(nucleotide_seq)\n",
    "    mito_table = CodonTable.unambiguous_dna_by_name[\"Vertebrate Mitochondrial\"]\n",
    "    \n",
    "    # Translate the sequence and remove the stop codon if it's at the end\n",
    "    protein_seq = dna_seq.translate(table=mito_table, to_stop=True)\n",
    "    \n",
    "    return str(protein_seq)\n",
    "\n",
    "# Example usage:\n",
    "# dna_sequence = \"ATGCGTATGTTTAAATAG\"\n",
    "# print(translate_sequence(dna_sequence))\n"
   ]
  },
  {
   "cell_type": "code",
   "execution_count": 18,
   "metadata": {},
   "outputs": [
    {
     "name": "stdout",
     "output_type": "stream",
     "text": [
      "MRMFK\n"
     ]
    }
   ],
   "source": [
    "# test function:\n",
    "dna_sequence = \"ATGCGTATGTTTAAATAG\"\n",
    "print(translate_sequence(dna_sequence))"
   ]
  },
  {
   "cell_type": "markdown",
   "metadata": {},
   "source": [
    "## 4 ##\n",
    "####### YOUR COUNT AA ANALYSIS FUNCTION ########\n",
    "## Write a function that calculates the molecular weight of each amino acid sequence.\n",
    "## For this, you can use some BioPython functions. I think you can use the ProtParam module.\n",
    "## For more info, check this out: http://biopython.org/wiki/ProtParam\n",
    "## So you should import the following before defining your function:"
   ]
  },
  {
   "cell_type": "code",
   "execution_count": null,
   "metadata": {},
   "outputs": [],
   "source": [
    "from Bio.SeqUtils.ProtParam import ProteinAnalysis"
   ]
  },
  {
   "cell_type": "markdown",
   "metadata": {},
   "source": [
    "# def compute_molecular_weight(aa_seq):\n",
    "#     # I think the ProtParam functions may require aa_seq to be a string.\n",
    "#     # It may not work if the amino acid sequence has stop codons.\n",
    "#     run the ProteinAnalysis() function on aa_seq\n",
    "#\t  return the molecular weight"
   ]
  },
  {
   "cell_type": "code",
   "execution_count": 1,
   "metadata": {},
   "outputs": [],
   "source": [
    "from Bio.SeqUtils.ProtParam import ProteinAnalysis\n",
    "\n",
    "def compute_molecular_weight(aa_seq):\n",
    "    \n",
    "    # Calculates the molecular weight of an amino acid sequence.\n",
    "\n",
    "    # This function uses BioPython's ProteinAnalysis to calculate the molecular weight of a given\n",
    "    # amino acid sequence. It is important that the amino acid sequence does not contain any stop codons\n",
    "    # as this could affect the calculation.\n",
    "\n",
    "    # Args:\n",
    "    # aa_seq (str): A string representing the amino acid sequence.\n",
    "\n",
    "    # Returns:\n",
    "    # float: The molecular weight of the amino acid sequence.\n",
    "    \n",
    "    analysis = ProteinAnalysis(aa_seq)\n",
    "    return analysis.molecular_weight()\n",
    "\n",
    "# Example usage:\n",
    "# aa_sequence = \"MRMF\"\n",
    "# print(\"Molecular Weight:\", compute_molecular_weight(aa_sequence))\n"
   ]
  },
  {
   "cell_type": "code",
   "execution_count": 2,
   "metadata": {},
   "outputs": [
    {
     "name": "stdout",
     "output_type": "stream",
     "text": [
      "Molecular Weight: 583.7668\n"
     ]
    }
   ],
   "source": [
    "#test function\n",
    "\n",
    "aa_sequence = \"MRMF\"\n",
    "print(\"Molecular Weight:\", compute_molecular_weight(aa_sequence))"
   ]
  },
  {
   "cell_type": "markdown",
   "metadata": {},
   "source": [
    "## 5 ##\n",
    "####### YOUR GC CONTENT ANALYSIS FUNCTION ########\n",
    "## Write a function that calculates the GC-content (proportion of \"G\" and \"C\") of each DNA sequence and returns this value.\n",
    "\n",
    "\n",
    "#%%%%%%%%%%%%%%#\n",
    "###   MAIN   ###\n",
    "#%%%%%%%%%%%%%%#\n"
   ]
  },
  {
   "cell_type": "code",
   "execution_count": 20,
   "metadata": {},
   "outputs": [],
   "source": [
    "cytb_seqs = get_sequences_from_file(\"penguins_cytb.fasta\") \n",
    "\n",
    "penguins_df = pd.read_csv(\"penguins_mass.csv\") # Includes only data for body mass \n",
    "species_list = list(penguins_df.species)"
   ]
  },
  {
   "cell_type": "code",
   "execution_count": 3,
   "metadata": {},
   "outputs": [],
   "source": [
    "def calculate_gc_content(seq):\n",
    "\n",
    "    # Calculates the GC content of a DNA sequence.\n",
    "    \n",
    "    # The GC content is the percentage of nucleotides in a DNA sequence that are either Guanine (G) or Cytosine (C).\n",
    "    # This function computes the GC content as a proportion (0 to 1) of the total sequence length, excluding any non-GC nucleotide bases.\n",
    "\n",
    "    # Args:\n",
    "    #seq (str): A string representing the DNA sequence.\n",
    "\n",
    "    #Returns:\n",
    "   #float: The proportion of the sequence that is composed of G and C nucleotides.\n",
    "    \n",
    "    g_count = seq.count('G')\n",
    "    c_count = seq.count('C')\n",
    "    gc_content = (g_count + c_count) / len(seq) if len(seq) > 0 else 0\n",
    "    return gc_content\n",
    "\n",
    "# Example usage:\n",
    "# dna_sequence = \"GCGCGCTATATAGCGC\"\n",
    "# print(\"GC Content:\", calculate_gc_content(dna_sequence))\n"
   ]
  },
  {
   "cell_type": "code",
   "execution_count": 4,
   "metadata": {},
   "outputs": [
    {
     "name": "stdout",
     "output_type": "stream",
     "text": [
      "GC Content: 0.625\n"
     ]
    }
   ],
   "source": [
    "dna_sequence = \"GCGCGCTATATAGCGC\"\n",
    "print(\"GC Content:\", calculate_gc_content(dna_sequence))"
   ]
  },
  {
   "cell_type": "markdown",
   "metadata": {},
   "source": []
  },
  {
   "cell_type": "markdown",
   "metadata": {},
   "source": [
    "## 6 ## \n",
    "## Add two new columns to the penguin DataFrame: (1) molecular weight and (2) GC content.\n",
    "## Set the value to 'NaN' to indicate that these cells are currently empty."
   ]
  },
  {
   "cell_type": "code",
   "execution_count": 21,
   "metadata": {},
   "outputs": [
    {
     "name": "stdout",
     "output_type": "stream",
     "text": [
      "                   species   mass  molecular weight  GC content\n",
      "0     Aptenodytes forsteri  28.00               NaN         NaN\n",
      "1  Aptenodytes patagonicus  13.40               NaN         NaN\n",
      "2      Eudyptes chrysocome   2.80               NaN         NaN\n",
      "3    Eudyptes chrysolophus   4.50               NaN         NaN\n",
      "4        Eudyptes sclateri   4.25               NaN         NaN\n"
     ]
    }
   ],
   "source": [
    "import pandas as pd\n",
    "import numpy as np  # For using np.nan\n",
    "\n",
    "# Assuming penguins_df is your existing DataFrame\n",
    "\n",
    "# Add new columns with 'NaN' values\n",
    "penguins_df['molecular weight'] = np.nan\n",
    "penguins_df['GC content'] = np.nan\n",
    "\n",
    "# Display the updated DataFrame to check the new columns\n",
    "print(penguins_df.head())  # This prints the first few rows of the DataFrame\n"
   ]
  },
  {
   "cell_type": "markdown",
   "metadata": {},
   "source": [
    "## 7 ##\n",
    "## Write a for-loop that translates each sequence and also gets molecular weight and computes the GC content\n",
    "## of each translated sequence and adds those data to DataFrame\n",
    "# for key, value in cytb_seqs.items():\n",
    "#     aa_seq = nuc2aa_translate_function(value) # whichever function you prefer of #2 or #3\n",
    "#     get the molecular weight of aa_seq\n",
    "#     get the GC content of the DNA sequence\n",
    "#     fill in empty cells in DF that you created above"
   ]
  },
  {
   "cell_type": "code",
   "execution_count": 24,
   "metadata": {},
   "outputs": [
    {
     "name": "stdout",
     "output_type": "stream",
     "text": [
      "                    species   mass  molecular weight  GC content\n",
      "0      Aptenodytes forsteri  28.00        42459.6021    0.483815\n",
      "1   Aptenodytes patagonicus  13.40        42563.7067    0.496938\n",
      "2       Eudyptes chrysocome   2.80        42475.5753    0.511811\n",
      "3     Eudyptes chrysolophus   4.50        42445.5493    0.509186\n",
      "4         Eudyptes sclateri   4.25        42475.5753    0.508311\n",
      "5           Eudyptula minor   1.60        42491.6408    0.492563\n",
      "6        Pygoscelis adeliae   4.60        42458.6140    0.490814\n",
      "7     Pygoscelis antarctica   4.10        42404.5423    0.477690\n",
      "8          Pygoscelis papua   6.10        42595.8759    0.471566\n",
      "9       Spheniscus demersus   3.20        42431.5490    0.482940\n",
      "10     Spheniscus humboldti   4.75        42399.5520    0.492563\n",
      "11  Spheniscus magellanicus   3.40        42459.6021    0.482065\n"
     ]
    }
   ],
   "source": [
    "# Assuming cytb_seqs is a dictionary with species names as keys and DNA sequences as values\n",
    "for species, dna_seq in cytb_seqs.items():\n",
    "    aa_seq = translate_sequence(dna_seq)  # Translate to amino acids\n",
    "    mol_weight = compute_molecular_weight(aa_seq)  # Get molecular weight of the amino acid sequence\n",
    "    gc_content = calculate_gc_content(dna_seq)  # Compute GC content of the DNA sequence\n",
    "\n",
    "    # Update the DataFrame with the calculated values\n",
    "    penguins_df.loc[penguins_df['species'] == species, 'molecular weight'] = mol_weight\n",
    "    penguins_df.loc[penguins_df['species'] == species, 'GC content'] = gc_content\n",
    "\n",
    "# Print the updated DataFrame to check results\n",
    "print(penguins_df)"
   ]
  },
  {
   "cell_type": "markdown",
   "metadata": {},
   "source": [
    "## 8 ##\n",
    "## Plot a bar-chart of the mass with the x-axes labeled with species names.\n",
    "## *Q1* What is the smallest penguin species? \n",
    "## *Q2* What is the geographical range of this species?"
   ]
  },
  {
   "cell_type": "code",
   "execution_count": 26,
   "metadata": {},
   "outputs": [
    {
     "name": "stdout",
     "output_type": "stream",
     "text": [
      "Collecting matplotlib\n",
      "  Downloading matplotlib-3.8.4-cp312-cp312-win_amd64.whl.metadata (5.9 kB)\n",
      "Collecting contourpy>=1.0.1 (from matplotlib)\n",
      "  Downloading contourpy-1.2.1-cp312-cp312-win_amd64.whl.metadata (5.8 kB)\n",
      "Collecting cycler>=0.10 (from matplotlib)\n",
      "  Downloading cycler-0.12.1-py3-none-any.whl.metadata (3.8 kB)\n",
      "Collecting fonttools>=4.22.0 (from matplotlib)\n",
      "  Downloading fonttools-4.51.0-cp312-cp312-win_amd64.whl.metadata (162 kB)\n",
      "     ---------------------------------------- 0.0/162.8 kB ? eta -:--:--\n",
      "     ---------------------------------------- 0.0/162.8 kB ? eta -:--:--\n",
      "     -- ------------------------------------- 10.2/162.8 kB ? eta -:--:--\n",
      "     -- ------------------------------------- 10.2/162.8 kB ? eta -:--:--\n",
      "     ------ ------------------------------ 30.7/162.8 kB 330.3 kB/s eta 0:00:01\n",
      "     --------- --------------------------- 41.0/162.8 kB 330.3 kB/s eta 0:00:01\n",
      "     ------------------ ------------------ 81.9/162.8 kB 459.5 kB/s eta 0:00:01\n",
      "     --------------------------- -------- 122.9/162.8 kB 516.7 kB/s eta 0:00:01\n",
      "     ------------------------------- ---- 143.4/162.8 kB 568.9 kB/s eta 0:00:01\n",
      "     ------------------------------------ 162.8/162.8 kB 513.5 kB/s eta 0:00:00\n",
      "Collecting kiwisolver>=1.3.1 (from matplotlib)\n",
      "  Downloading kiwisolver-1.4.5-cp312-cp312-win_amd64.whl.metadata (6.5 kB)\n",
      "Requirement already satisfied: numpy>=1.21 in c:\\users\\amuee\\miniconda3\\envs\\notebook\\lib\\site-packages (from matplotlib) (1.26.4)\n",
      "Requirement already satisfied: packaging>=20.0 in c:\\users\\amuee\\miniconda3\\envs\\notebook\\lib\\site-packages (from matplotlib) (24.0)\n",
      "Collecting pillow>=8 (from matplotlib)\n",
      "  Downloading pillow-10.3.0-cp312-cp312-win_amd64.whl.metadata (9.4 kB)\n",
      "Collecting pyparsing>=2.3.1 (from matplotlib)\n",
      "  Downloading pyparsing-3.1.2-py3-none-any.whl.metadata (5.1 kB)\n",
      "Requirement already satisfied: python-dateutil>=2.7 in c:\\users\\amuee\\miniconda3\\envs\\notebook\\lib\\site-packages (from matplotlib) (2.9.0)\n",
      "Requirement already satisfied: six>=1.5 in c:\\users\\amuee\\miniconda3\\envs\\notebook\\lib\\site-packages (from python-dateutil>=2.7->matplotlib) (1.16.0)\n",
      "Downloading matplotlib-3.8.4-cp312-cp312-win_amd64.whl (7.7 MB)\n",
      "   ---------------------------------------- 0.0/7.7 MB ? eta -:--:--\n",
      "   ---------------------------------------- 0.0/7.7 MB 660.6 kB/s eta 0:00:12\n",
      "   ---------------------------------------- 0.1/7.7 MB 787.7 kB/s eta 0:00:10\n",
      "    --------------------------------------- 0.1/7.7 MB 737.3 kB/s eta 0:00:11\n",
      "    --------------------------------------- 0.2/7.7 MB 833.5 kB/s eta 0:00:10\n",
      "    --------------------------------------- 0.2/7.7 MB 857.5 kB/s eta 0:00:09\n",
      "   - -------------------------------------- 0.2/7.7 MB 850.1 kB/s eta 0:00:09\n",
      "   - -------------------------------------- 0.3/7.7 MB 886.2 kB/s eta 0:00:09\n",
      "   - -------------------------------------- 0.3/7.7 MB 912.8 kB/s eta 0:00:09\n",
      "   - -------------------------------------- 0.4/7.7 MB 882.8 kB/s eta 0:00:09\n",
      "   -- ------------------------------------- 0.4/7.7 MB 904.2 kB/s eta 0:00:09\n",
      "   -- ------------------------------------- 0.5/7.7 MB 921.6 kB/s eta 0:00:08\n",
      "   -- ------------------------------------- 0.5/7.7 MB 925.6 kB/s eta 0:00:08\n",
      "   -- ------------------------------------- 0.6/7.7 MB 939.0 kB/s eta 0:00:08\n",
      "   --- ------------------------------------ 0.6/7.7 MB 944.0 kB/s eta 0:00:08\n",
      "   --- ------------------------------------ 0.7/7.7 MB 953.9 kB/s eta 0:00:08\n",
      "   --- ------------------------------------ 0.7/7.7 MB 962.6 kB/s eta 0:00:08\n",
      "   ---- ----------------------------------- 0.8/7.7 MB 983.4 kB/s eta 0:00:07\n",
      "   ---- ----------------------------------- 0.8/7.7 MB 989.4 kB/s eta 0:00:07\n",
      "   ---- ----------------------------------- 0.9/7.7 MB 1.0 MB/s eta 0:00:07\n",
      "   ---- ----------------------------------- 0.9/7.7 MB 1.0 MB/s eta 0:00:07\n",
      "   ----- ---------------------------------- 1.0/7.7 MB 1.0 MB/s eta 0:00:07\n",
      "   ----- ---------------------------------- 1.1/7.7 MB 1.0 MB/s eta 0:00:07\n",
      "   ----- ---------------------------------- 1.1/7.7 MB 1.0 MB/s eta 0:00:07\n",
      "   ------ --------------------------------- 1.2/7.7 MB 1.0 MB/s eta 0:00:07\n",
      "   ------ --------------------------------- 1.2/7.7 MB 1.0 MB/s eta 0:00:07\n",
      "   ------ --------------------------------- 1.2/7.7 MB 1.0 MB/s eta 0:00:07\n",
      "   ------ --------------------------------- 1.3/7.7 MB 1.0 MB/s eta 0:00:07\n",
      "   ------- -------------------------------- 1.4/7.7 MB 1.0 MB/s eta 0:00:07\n",
      "   ------- -------------------------------- 1.4/7.7 MB 1.0 MB/s eta 0:00:06\n",
      "   ------- -------------------------------- 1.5/7.7 MB 1.1 MB/s eta 0:00:06\n",
      "   ------- -------------------------------- 1.5/7.7 MB 1.0 MB/s eta 0:00:06\n",
      "   -------- ------------------------------- 1.5/7.7 MB 1.0 MB/s eta 0:00:06\n",
      "   -------- ------------------------------- 1.6/7.7 MB 1.0 MB/s eta 0:00:06\n",
      "   -------- ------------------------------- 1.6/7.7 MB 1.0 MB/s eta 0:00:06\n",
      "   -------- ------------------------------- 1.7/7.7 MB 1.1 MB/s eta 0:00:06\n",
      "   --------- ------------------------------ 1.8/7.7 MB 1.1 MB/s eta 0:00:06\n",
      "   --------- ------------------------------ 1.8/7.7 MB 1.1 MB/s eta 0:00:06\n",
      "   --------- ------------------------------ 1.9/7.7 MB 1.1 MB/s eta 0:00:06\n",
      "   --------- ------------------------------ 1.9/7.7 MB 1.1 MB/s eta 0:00:06\n",
      "   ---------- ----------------------------- 2.0/7.7 MB 1.1 MB/s eta 0:00:06\n",
      "   ---------- ----------------------------- 2.0/7.7 MB 1.1 MB/s eta 0:00:06\n",
      "   ----------- ---------------------------- 2.1/7.7 MB 1.1 MB/s eta 0:00:06\n",
      "   ----------- ---------------------------- 2.2/7.7 MB 1.1 MB/s eta 0:00:06\n",
      "   ----------- ---------------------------- 2.2/7.7 MB 1.1 MB/s eta 0:00:05\n",
      "   ----------- ---------------------------- 2.3/7.7 MB 1.1 MB/s eta 0:00:05\n",
      "   ------------ --------------------------- 2.3/7.7 MB 1.1 MB/s eta 0:00:05\n",
      "   ------------ --------------------------- 2.4/7.7 MB 1.1 MB/s eta 0:00:05\n",
      "   ------------ --------------------------- 2.4/7.7 MB 1.1 MB/s eta 0:00:05\n",
      "   ------------ --------------------------- 2.5/7.7 MB 1.1 MB/s eta 0:00:05\n",
      "   ------------- -------------------------- 2.5/7.7 MB 1.1 MB/s eta 0:00:05\n",
      "   ------------- -------------------------- 2.6/7.7 MB 1.1 MB/s eta 0:00:05\n",
      "   -------------- ------------------------- 2.7/7.7 MB 1.1 MB/s eta 0:00:05\n",
      "   -------------- ------------------------- 2.8/7.7 MB 1.1 MB/s eta 0:00:05\n",
      "   -------------- ------------------------- 2.8/7.7 MB 1.1 MB/s eta 0:00:05\n",
      "   --------------- ------------------------ 2.9/7.7 MB 1.1 MB/s eta 0:00:05\n",
      "   --------------- ------------------------ 3.0/7.7 MB 1.2 MB/s eta 0:00:05\n",
      "   --------------- ------------------------ 3.1/7.7 MB 1.2 MB/s eta 0:00:04\n",
      "   ---------------- ----------------------- 3.1/7.7 MB 1.2 MB/s eta 0:00:04\n",
      "   ---------------- ----------------------- 3.2/7.7 MB 1.2 MB/s eta 0:00:04\n",
      "   ----------------- ---------------------- 3.3/7.7 MB 1.2 MB/s eta 0:00:04\n",
      "   ----------------- ---------------------- 3.3/7.7 MB 1.2 MB/s eta 0:00:04\n",
      "   ----------------- ---------------------- 3.4/7.7 MB 1.2 MB/s eta 0:00:04\n",
      "   ------------------ --------------------- 3.5/7.7 MB 1.2 MB/s eta 0:00:04\n",
      "   ------------------ --------------------- 3.6/7.7 MB 1.2 MB/s eta 0:00:04\n",
      "   ------------------ --------------------- 3.6/7.7 MB 1.2 MB/s eta 0:00:04\n",
      "   ------------------- -------------------- 3.7/7.7 MB 1.2 MB/s eta 0:00:04\n",
      "   ------------------- -------------------- 3.8/7.7 MB 1.2 MB/s eta 0:00:04\n",
      "   -------------------- ------------------- 3.9/7.7 MB 1.2 MB/s eta 0:00:04\n",
      "   -------------------- ------------------- 4.0/7.7 MB 1.2 MB/s eta 0:00:03\n",
      "   --------------------- ------------------ 4.1/7.7 MB 1.3 MB/s eta 0:00:03\n",
      "   --------------------- ------------------ 4.1/7.7 MB 1.3 MB/s eta 0:00:03\n",
      "   ---------------------- ----------------- 4.2/7.7 MB 1.3 MB/s eta 0:00:03\n",
      "   ---------------------- ----------------- 4.3/7.7 MB 1.3 MB/s eta 0:00:03\n",
      "   ----------------------- ---------------- 4.4/7.7 MB 1.3 MB/s eta 0:00:03\n",
      "   ----------------------- ---------------- 4.5/7.7 MB 1.3 MB/s eta 0:00:03\n",
      "   ------------------------ --------------- 4.6/7.7 MB 1.3 MB/s eta 0:00:03\n",
      "   ------------------------ --------------- 4.7/7.7 MB 1.3 MB/s eta 0:00:03\n",
      "   ------------------------- -------------- 4.8/7.7 MB 1.3 MB/s eta 0:00:03\n",
      "   ------------------------- -------------- 4.9/7.7 MB 1.3 MB/s eta 0:00:03\n",
      "   -------------------------- ------------- 5.0/7.7 MB 1.4 MB/s eta 0:00:02\n",
      "   -------------------------- ------------- 5.1/7.7 MB 1.4 MB/s eta 0:00:02\n",
      "   --------------------------- ------------ 5.2/7.7 MB 1.4 MB/s eta 0:00:02\n",
      "   --------------------------- ------------ 5.3/7.7 MB 1.4 MB/s eta 0:00:02\n",
      "   ---------------------------- ----------- 5.4/7.7 MB 1.4 MB/s eta 0:00:02\n",
      "   ---------------------------- ----------- 5.5/7.7 MB 1.4 MB/s eta 0:00:02\n",
      "   ----------------------------- ---------- 5.6/7.7 MB 1.4 MB/s eta 0:00:02\n",
      "   ----------------------------- ---------- 5.7/7.7 MB 1.4 MB/s eta 0:00:02\n",
      "   ------------------------------ --------- 5.8/7.7 MB 1.4 MB/s eta 0:00:02\n",
      "   ------------------------------- -------- 5.9/7.7 MB 1.5 MB/s eta 0:00:02\n",
      "   ------------------------------- -------- 6.1/7.7 MB 1.5 MB/s eta 0:00:02\n",
      "   -------------------------------- ------- 6.2/7.7 MB 1.5 MB/s eta 0:00:02\n",
      "   -------------------------------- ------- 6.3/7.7 MB 1.5 MB/s eta 0:00:01\n",
      "   --------------------------------- ------ 6.4/7.7 MB 1.5 MB/s eta 0:00:01\n",
      "   --------------------------------- ------ 6.5/7.7 MB 1.5 MB/s eta 0:00:01\n",
      "   ---------------------------------- ----- 6.6/7.7 MB 1.5 MB/s eta 0:00:01\n",
      "   ----------------------------------- ---- 6.7/7.7 MB 1.5 MB/s eta 0:00:01\n",
      "   ----------------------------------- ---- 6.9/7.7 MB 1.5 MB/s eta 0:00:01\n",
      "   ----------------------------------- ---- 6.9/7.7 MB 1.5 MB/s eta 0:00:01\n",
      "   ----------------------------------- ---- 6.9/7.7 MB 1.5 MB/s eta 0:00:01\n",
      "   ------------------------------------ --- 7.0/7.7 MB 1.5 MB/s eta 0:00:01\n",
      "   ------------------------------------ --- 7.0/7.7 MB 1.5 MB/s eta 0:00:01\n",
      "   ------------------------------------- -- 7.1/7.7 MB 1.5 MB/s eta 0:00:01\n",
      "   ------------------------------------- -- 7.2/7.7 MB 1.5 MB/s eta 0:00:01\n",
      "   -------------------------------------- - 7.3/7.7 MB 1.5 MB/s eta 0:00:01\n",
      "   -------------------------------------- - 7.5/7.7 MB 1.5 MB/s eta 0:00:01\n",
      "   ---------------------------------------  7.6/7.7 MB 1.6 MB/s eta 0:00:01\n",
      "   ---------------------------------------  7.7/7.7 MB 1.6 MB/s eta 0:00:01\n",
      "   ---------------------------------------- 7.7/7.7 MB 1.6 MB/s eta 0:00:00\n",
      "Downloading contourpy-1.2.1-cp312-cp312-win_amd64.whl (189 kB)\n",
      "   ---------------------------------------- 0.0/189.9 kB ? eta -:--:--\n",
      "   ------------------- -------------------- 92.2/189.9 kB ? eta -:--:--\n",
      "   ------------------------------ --------- 143.4/189.9 kB 2.1 MB/s eta 0:00:01\n",
      "   ---------------------------------------- 189.9/189.9 kB 2.3 MB/s eta 0:00:00\n",
      "Downloading cycler-0.12.1-py3-none-any.whl (8.3 kB)\n",
      "Downloading fonttools-4.51.0-cp312-cp312-win_amd64.whl (2.2 MB)\n",
      "   ---------------------------------------- 0.0/2.2 MB ? eta -:--:--\n",
      "   - -------------------------------------- 0.1/2.2 MB 5.1 MB/s eta 0:00:01\n",
      "   --- ------------------------------------ 0.2/2.2 MB 2.1 MB/s eta 0:00:01\n",
      "   ----- ---------------------------------- 0.3/2.2 MB 2.2 MB/s eta 0:00:01\n",
      "   ------- -------------------------------- 0.4/2.2 MB 2.3 MB/s eta 0:00:01\n",
      "   --------- ------------------------------ 0.5/2.2 MB 2.4 MB/s eta 0:00:01\n",
      "   ------------ --------------------------- 0.7/2.2 MB 2.5 MB/s eta 0:00:01\n",
      "   -------------- ------------------------- 0.8/2.2 MB 2.5 MB/s eta 0:00:01\n",
      "   ---------------- ----------------------- 0.9/2.2 MB 2.5 MB/s eta 0:00:01\n",
      "   ------------------- -------------------- 1.1/2.2 MB 2.6 MB/s eta 0:00:01\n",
      "   ---------------------- ----------------- 1.2/2.2 MB 2.6 MB/s eta 0:00:01\n",
      "   ------------------------ --------------- 1.3/2.2 MB 2.6 MB/s eta 0:00:01\n",
      "   --------------------------- ------------ 1.5/2.2 MB 2.7 MB/s eta 0:00:01\n",
      "   ----------------------------- ---------- 1.6/2.2 MB 2.7 MB/s eta 0:00:01\n",
      "   -------------------------------- ------- 1.7/2.2 MB 2.7 MB/s eta 0:00:01\n",
      "   ---------------------------------- ----- 1.9/2.2 MB 2.7 MB/s eta 0:00:01\n",
      "   ------------------------------------- -- 2.0/2.2 MB 2.8 MB/s eta 0:00:01\n",
      "   ---------------------------------------  2.2/2.2 MB 2.8 MB/s eta 0:00:01\n",
      "   ---------------------------------------- 2.2/2.2 MB 2.8 MB/s eta 0:00:00\n",
      "Downloading kiwisolver-1.4.5-cp312-cp312-win_amd64.whl (56 kB)\n",
      "   ---------------------------------------- 0.0/56.0 kB ? eta -:--:--\n",
      "   ---------------------------------------- 56.0/56.0 kB 2.9 MB/s eta 0:00:00\n",
      "Downloading pillow-10.3.0-cp312-cp312-win_amd64.whl (2.5 MB)\n",
      "   ---------------------------------------- 0.0/2.5 MB ? eta -:--:--\n",
      "   -- ------------------------------------- 0.2/2.5 MB 4.5 MB/s eta 0:00:01\n",
      "   --- ------------------------------------ 0.2/2.5 MB 4.1 MB/s eta 0:00:01\n",
      "   ----- ---------------------------------- 0.3/2.5 MB 2.6 MB/s eta 0:00:01\n",
      "   ------- -------------------------------- 0.5/2.5 MB 2.7 MB/s eta 0:00:01\n",
      "   ---------- ----------------------------- 0.6/2.5 MB 2.9 MB/s eta 0:00:01\n",
      "   ------------ --------------------------- 0.8/2.5 MB 2.9 MB/s eta 0:00:01\n",
      "   -------------- ------------------------- 0.9/2.5 MB 2.8 MB/s eta 0:00:01\n",
      "   --------------- ------------------------ 1.0/2.5 MB 2.8 MB/s eta 0:00:01\n",
      "   ------------------ --------------------- 1.1/2.5 MB 2.8 MB/s eta 0:00:01\n",
      "   -------------------- ------------------- 1.3/2.5 MB 2.9 MB/s eta 0:00:01\n",
      "   ----------------------- ---------------- 1.5/2.5 MB 2.9 MB/s eta 0:00:01\n",
      "   ------------------------- -------------- 1.6/2.5 MB 2.9 MB/s eta 0:00:01\n",
      "   --------------------------- ------------ 1.7/2.5 MB 2.9 MB/s eta 0:00:01\n",
      "   ----------------------------- ---------- 1.8/2.5 MB 2.9 MB/s eta 0:00:01\n",
      "   ------------------------------ --------- 2.0/2.5 MB 2.9 MB/s eta 0:00:01\n",
      "   --------------------------------- ------ 2.1/2.5 MB 2.9 MB/s eta 0:00:01\n",
      "   ----------------------------------- ---- 2.3/2.5 MB 2.9 MB/s eta 0:00:01\n",
      "   ------------------------------------- -- 2.4/2.5 MB 2.9 MB/s eta 0:00:01\n",
      "   ---------------------------------------  2.5/2.5 MB 2.9 MB/s eta 0:00:01\n",
      "   ---------------------------------------  2.5/2.5 MB 2.8 MB/s eta 0:00:01\n",
      "   ---------------------------------------- 2.5/2.5 MB 2.7 MB/s eta 0:00:00\n",
      "Downloading pyparsing-3.1.2-py3-none-any.whl (103 kB)\n",
      "   ---------------------------------------- 0.0/103.2 kB ? eta -:--:--\n",
      "   ---------------------------------------- 103.2/103.2 kB 3.0 MB/s eta 0:00:00\n",
      "Installing collected packages: pyparsing, pillow, kiwisolver, fonttools, cycler, contourpy, matplotlib\n",
      "Successfully installed contourpy-1.2.1 cycler-0.12.1 fonttools-4.51.0 kiwisolver-1.4.5 matplotlib-3.8.4 pillow-10.3.0 pyparsing-3.1.2\n"
     ]
    }
   ],
   "source": [
    "!pip install matplotlib\n"
   ]
  },
  {
   "cell_type": "code",
   "execution_count": 27,
   "metadata": {},
   "outputs": [
    {
     "data": {
      "image/png": "[encoded data removed]",
      "text/plain": [
       "<Figure size 1000x600 with 1 Axes>"
      ]
     },
     "metadata": {},
     "output_type": "display_data"
    }
   ],
   "source": [
    "import matplotlib.pyplot as plt\n",
    "\n",
    "# Create a bar chart\n",
    "plt.figure(figsize=(10, 6))  # Set the figure size\n",
    "plt.bar(penguins_df['species'], penguins_df['mass'], color='skyblue')\n",
    "plt.xlabel('Species')\n",
    "plt.ylabel('Mass (grams)')\n",
    "plt.title('Penguin Species and Their Body Mass')\n",
    "plt.xticks(rotation=45)  # Rotate species names for better visibility\n",
    "plt.tight_layout()  # Adjust layout to make room for label rotation\n",
    "plt.show()\n"
   ]
  },
  {
   "cell_type": "markdown",
   "metadata": {},
   "source": [
    "## *Q1* What is the smallest penguin species? \n",
    "ANS: Eudyptes minor\n",
    "## *Q2* What is the geographical range of this species?\n",
    "Australia and New Zealand"
   ]
  }
 ],
 "metadata": {
  "kernelspec": {
   "display_name": "notebook",
   "language": "python",
   "name": "python3"
  },
  "language_info": {
   "codemirror_mode": {
    "name": "ipython",
    "version": 3
   },
   "file_extension": ".py",
   "mimetype": "text/x-python",
   "name": "python",
   "nbconvert_exporter": "python",
   "pygments_lexer": "ipython3",
   "version": "3.12.3"
  }
 },
 "nbformat": 4,
 "nbformat_minor": 2
}
